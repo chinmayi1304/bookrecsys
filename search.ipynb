{
 "cells": [
  {
   "cell_type": "code",
   "execution_count": 1,
   "id": "47f57f51",
   "metadata": {},
   "outputs": [],
   "source": [
    "import gzip\n",
    "\n",
    "with gzip.open(\"goodreads_books.json.gz\",'r') as f:\n",
    "    line= f.readline()"
   ]
  },
  {
   "cell_type": "code",
   "execution_count": 2,
   "id": "0d7a6618",
   "metadata": {
    "scrolled": true
   },
   "outputs": [
    {
     "data": {
      "text/plain": [
       "b'{\"isbn\": \"0312853122\", \"text_reviews_count\": \"1\", \"series\": [], \"country_code\": \"US\", \"language_code\": \"\", \"popular_shelves\": [{\"count\": \"3\", \"name\": \"to-read\"}, {\"count\": \"1\", \"name\": \"p\"}, {\"count\": \"1\", \"name\": \"collection\"}, {\"count\": \"1\", \"name\": \"w-c-fields\"}, {\"count\": \"1\", \"name\": \"biography\"}], \"asin\": \"\", \"is_ebook\": \"false\", \"average_rating\": \"4.00\", \"kindle_asin\": \"\", \"similar_books\": [], \"description\": \"\", \"format\": \"Paperback\", \"link\": \"https://www.goodreads.com/book/show/5333265-w-c-fields\", \"authors\": [{\"author_id\": \"604031\", \"role\": \"\"}], \"publisher\": \"St. Martin\\'s Press\", \"num_pages\": \"256\", \"publication_day\": \"1\", \"isbn13\": \"9780312853129\", \"publication_month\": \"9\", \"edition_information\": \"\", \"publication_year\": \"1984\", \"url\": \"https://www.goodreads.com/book/show/5333265-w-c-fields\", \"image_url\": \"https://images.gr-assets.com/books/1310220028m/5333265.jpg\", \"book_id\": \"5333265\", \"ratings_count\": \"3\", \"work_id\": \"5400751\", \"title\": \"W.C. Fields: A Life on Film\", \"title_without_series\": \"W.C. Fields: A Life on Film\"}\\n'"
      ]
     },
     "execution_count": 2,
     "metadata": {},
     "output_type": "execute_result"
    }
   ],
   "source": [
    "line"
   ]
  },
  {
   "cell_type": "code",
   "execution_count": 3,
   "id": "b299895d",
   "metadata": {},
   "outputs": [
    {
     "data": {
      "text/plain": [
       "{'isbn': '0312853122',\n",
       " 'text_reviews_count': '1',\n",
       " 'series': [],\n",
       " 'country_code': 'US',\n",
       " 'language_code': '',\n",
       " 'popular_shelves': [{'count': '3', 'name': 'to-read'},\n",
       "  {'count': '1', 'name': 'p'},\n",
       "  {'count': '1', 'name': 'collection'},\n",
       "  {'count': '1', 'name': 'w-c-fields'},\n",
       "  {'count': '1', 'name': 'biography'}],\n",
       " 'asin': '',\n",
       " 'is_ebook': 'false',\n",
       " 'average_rating': '4.00',\n",
       " 'kindle_asin': '',\n",
       " 'similar_books': [],\n",
       " 'description': '',\n",
       " 'format': 'Paperback',\n",
       " 'link': 'https://www.goodreads.com/book/show/5333265-w-c-fields',\n",
       " 'authors': [{'author_id': '604031', 'role': ''}],\n",
       " 'publisher': \"St. Martin's Press\",\n",
       " 'num_pages': '256',\n",
       " 'publication_day': '1',\n",
       " 'isbn13': '9780312853129',\n",
       " 'publication_month': '9',\n",
       " 'edition_information': '',\n",
       " 'publication_year': '1984',\n",
       " 'url': 'https://www.goodreads.com/book/show/5333265-w-c-fields',\n",
       " 'image_url': 'https://images.gr-assets.com/books/1310220028m/5333265.jpg',\n",
       " 'book_id': '5333265',\n",
       " 'ratings_count': '3',\n",
       " 'work_id': '5400751',\n",
       " 'title': 'W.C. Fields: A Life on Film',\n",
       " 'title_without_series': 'W.C. Fields: A Life on Film'}"
      ]
     },
     "execution_count": 3,
     "metadata": {},
     "output_type": "execute_result"
    }
   ],
   "source": [
    "import json\n",
    "data = json.loads(line)\n",
    "data"
   ]
  },
  {
   "cell_type": "code",
   "execution_count": 4,
   "id": "35ea1862",
   "metadata": {},
   "outputs": [],
   "source": [
    "def parse_fields(line):\n",
    "    data = json.loads(line)\n",
    "    return {\n",
    "        \"book_id\": data[\"book_id\"], \n",
    "        \"title\": data[\"title_without_series\"],\n",
    "        \"author\": data[\"authors\"],\n",
    "        \"ratings\": data[\"ratings_count\"], \n",
    "        \"url\": data[\"url\"], \n",
    "        \"cover_image\": data[\"image_url\"]\n",
    "    }"
   ]
  },
  {
   "cell_type": "code",
   "execution_count": 5,
   "id": "7e7edfd6",
   "metadata": {},
   "outputs": [],
   "source": [
    "books_titles = []\n",
    "with gzip.open(\"goodreads_books.json.gz\") as f:\n",
    "    while True:\n",
    "        line = f.readline()\n",
    "        if not line:\n",
    "            break\n",
    "        fields = parse_fields(line)\n",
    "        try:\n",
    "            ratings = int(fields[\"ratings\"])\n",
    "        except ValueError:\n",
    "            continue\n",
    "        if ratings > 5:\n",
    "            books_titles.append(fields)"
   ]
  },
  {
   "cell_type": "code",
   "execution_count": 6,
   "id": "f9fcc73f",
   "metadata": {},
   "outputs": [],
   "source": [
    "import pandas as pd\n",
    "\n",
    "titles = pd.DataFrame.from_dict(books_titles)"
   ]
  },
  {
   "cell_type": "code",
   "execution_count": 7,
   "id": "756f8b1f",
   "metadata": {},
   "outputs": [],
   "source": [
    "titles[\"ratings\"] = pd.to_numeric(titles[\"ratings\"])"
   ]
  },
  {
   "cell_type": "code",
   "execution_count": 8,
   "id": "c3253c15",
   "metadata": {},
   "outputs": [],
   "source": [
    "titles[\"mod_title\"] = titles[\"title\"].str.replace(\"[^a-zA-Z0-9 ]\", \"\", regex=True)"
   ]
  },
  {
   "cell_type": "code",
   "execution_count": 9,
   "id": "403fa4dd",
   "metadata": {},
   "outputs": [],
   "source": [
    "titles[\"mod_title\"] = titles[\"mod_title\"].str.lower()"
   ]
  },
  {
   "cell_type": "code",
   "execution_count": 10,
   "id": "2471edf0",
   "metadata": {},
   "outputs": [],
   "source": [
    "titles[\"mod_title\"] = titles[\"mod_title\"].str.replace(\"\\s+\", \" \", regex=True)"
   ]
  },
  {
   "cell_type": "code",
   "execution_count": 11,
   "id": "15b71941",
   "metadata": {},
   "outputs": [],
   "source": [
    "titles = titles[titles[\"mod_title\"].str.len() > 0]"
   ]
  },
  {
   "cell_type": "code",
   "execution_count": 12,
   "id": "9abc0877",
   "metadata": {},
   "outputs": [],
   "source": [
    "titles.to_json(\"books_titles.json\")"
   ]
  },
  {
   "cell_type": "code",
   "execution_count": 13,
   "id": "a0f0a5cb",
   "metadata": {},
   "outputs": [
    {
     "data": {
      "text/html": [
       "<div>\n",
       "<style scoped>\n",
       "    .dataframe tbody tr th:only-of-type {\n",
       "        vertical-align: middle;\n",
       "    }\n",
       "\n",
       "    .dataframe tbody tr th {\n",
       "        vertical-align: top;\n",
       "    }\n",
       "\n",
       "    .dataframe thead th {\n",
       "        text-align: right;\n",
       "    }\n",
       "</style>\n",
       "<table border=\"1\" class=\"dataframe\">\n",
       "  <thead>\n",
       "    <tr style=\"text-align: right;\">\n",
       "      <th></th>\n",
       "      <th>book_id</th>\n",
       "      <th>title</th>\n",
       "      <th>author</th>\n",
       "      <th>ratings</th>\n",
       "      <th>url</th>\n",
       "      <th>cover_image</th>\n",
       "      <th>mod_title</th>\n",
       "    </tr>\n",
       "  </thead>\n",
       "  <tbody>\n",
       "    <tr>\n",
       "      <th>0</th>\n",
       "      <td>1333909</td>\n",
       "      <td>Good Harbor</td>\n",
       "      <td>[{'author_id': '626222', 'role': ''}]</td>\n",
       "      <td>10</td>\n",
       "      <td>https://www.goodreads.com/book/show/1333909.Go...</td>\n",
       "      <td>https://s.gr-assets.com/assets/nophoto/book/11...</td>\n",
       "      <td>good harbor</td>\n",
       "    </tr>\n",
       "    <tr>\n",
       "      <th>1</th>\n",
       "      <td>7327624</td>\n",
       "      <td>The Unschooled Wizard (Sun Wolf and Starhawk, ...</td>\n",
       "      <td>[{'author_id': '10333', 'role': ''}]</td>\n",
       "      <td>140</td>\n",
       "      <td>https://www.goodreads.com/book/show/7327624-th...</td>\n",
       "      <td>https://images.gr-assets.com/books/1304100136m...</td>\n",
       "      <td>the unschooled wizard sun wolf and starhawk 12</td>\n",
       "    </tr>\n",
       "    <tr>\n",
       "      <th>2</th>\n",
       "      <td>6066819</td>\n",
       "      <td>Best Friends Forever</td>\n",
       "      <td>[{'author_id': '9212', 'role': ''}]</td>\n",
       "      <td>51184</td>\n",
       "      <td>https://www.goodreads.com/book/show/6066819-be...</td>\n",
       "      <td>https://s.gr-assets.com/assets/nophoto/book/11...</td>\n",
       "      <td>best friends forever</td>\n",
       "    </tr>\n",
       "    <tr>\n",
       "      <th>3</th>\n",
       "      <td>287140</td>\n",
       "      <td>Runic Astrology: Starcraft and Timekeeping in ...</td>\n",
       "      <td>[{'author_id': '149918', 'role': ''}]</td>\n",
       "      <td>15</td>\n",
       "      <td>https://www.goodreads.com/book/show/287140.Run...</td>\n",
       "      <td>https://images.gr-assets.com/books/1413219371m...</td>\n",
       "      <td>runic astrology starcraft and timekeeping in t...</td>\n",
       "    </tr>\n",
       "    <tr>\n",
       "      <th>4</th>\n",
       "      <td>287141</td>\n",
       "      <td>The Aeneid for Boys and Girls</td>\n",
       "      <td>[{'author_id': '3041852', 'role': ''}]</td>\n",
       "      <td>46</td>\n",
       "      <td>https://www.goodreads.com/book/show/287141.The...</td>\n",
       "      <td>https://s.gr-assets.com/assets/nophoto/book/11...</td>\n",
       "      <td>the aeneid for boys and girls</td>\n",
       "    </tr>\n",
       "    <tr>\n",
       "      <th>...</th>\n",
       "      <td>...</td>\n",
       "      <td>...</td>\n",
       "      <td>...</td>\n",
       "      <td>...</td>\n",
       "      <td>...</td>\n",
       "      <td>...</td>\n",
       "      <td>...</td>\n",
       "    </tr>\n",
       "    <tr>\n",
       "      <th>1782574</th>\n",
       "      <td>3084038</td>\n",
       "      <td>This Sceptred Isle, Vol. 10: The Age of Victor...</td>\n",
       "      <td>[{'author_id': '4015', 'role': ''}, {'author_i...</td>\n",
       "      <td>12</td>\n",
       "      <td>https://www.goodreads.com/book/show/3084038-th...</td>\n",
       "      <td>https://images.gr-assets.com/books/1494763458m...</td>\n",
       "      <td>this sceptred isle vol 10 the age of victoria ...</td>\n",
       "    </tr>\n",
       "    <tr>\n",
       "      <th>1782575</th>\n",
       "      <td>26168430</td>\n",
       "      <td>Sherlock Holmes and the July Crisis</td>\n",
       "      <td>[{'author_id': '2448', 'role': ''}, {'author_i...</td>\n",
       "      <td>6</td>\n",
       "      <td>https://www.goodreads.com/book/show/26168430-s...</td>\n",
       "      <td>https://images.gr-assets.com/books/1440592011m...</td>\n",
       "      <td>sherlock holmes and the july crisis</td>\n",
       "    </tr>\n",
       "    <tr>\n",
       "      <th>1782576</th>\n",
       "      <td>2342551</td>\n",
       "      <td>The Children's Classic Poetry Collection</td>\n",
       "      <td>[{'author_id': '82312', 'role': 'Editor'}]</td>\n",
       "      <td>36</td>\n",
       "      <td>https://www.goodreads.com/book/show/2342551.Th...</td>\n",
       "      <td>https://s.gr-assets.com/assets/nophoto/book/11...</td>\n",
       "      <td>the childrens classic poetry collection</td>\n",
       "    </tr>\n",
       "    <tr>\n",
       "      <th>1782577</th>\n",
       "      <td>22017381</td>\n",
       "      <td>101 Nights: Volume One (101 Nights, #1-3)</td>\n",
       "      <td>[{'author_id': '7789809', 'role': ''}]</td>\n",
       "      <td>70</td>\n",
       "      <td>https://www.goodreads.com/book/show/22017381-1...</td>\n",
       "      <td>https://images.gr-assets.com/books/1398621236m...</td>\n",
       "      <td>101 nights volume one 101 nights 13</td>\n",
       "    </tr>\n",
       "    <tr>\n",
       "      <th>1782578</th>\n",
       "      <td>11419866</td>\n",
       "      <td>The Spanish Duke's Virgin Bride (Innocent Mist...</td>\n",
       "      <td>[{'author_id': '621880', 'role': ''}]</td>\n",
       "      <td>7</td>\n",
       "      <td>https://www.goodreads.com/book/show/11419866-t...</td>\n",
       "      <td>https://s.gr-assets.com/assets/nophoto/book/11...</td>\n",
       "      <td>the spanish dukes virgin bride innocent mistre...</td>\n",
       "    </tr>\n",
       "  </tbody>\n",
       "</table>\n",
       "<p>1773389 rows × 7 columns</p>\n",
       "</div>"
      ],
      "text/plain": [
       "          book_id                                              title  \\\n",
       "0         1333909                                        Good Harbor   \n",
       "1         7327624  The Unschooled Wizard (Sun Wolf and Starhawk, ...   \n",
       "2         6066819                               Best Friends Forever   \n",
       "3          287140  Runic Astrology: Starcraft and Timekeeping in ...   \n",
       "4          287141                      The Aeneid for Boys and Girls   \n",
       "...           ...                                                ...   \n",
       "1782574   3084038  This Sceptred Isle, Vol. 10: The Age of Victor...   \n",
       "1782575  26168430                Sherlock Holmes and the July Crisis   \n",
       "1782576   2342551           The Children's Classic Poetry Collection   \n",
       "1782577  22017381          101 Nights: Volume One (101 Nights, #1-3)   \n",
       "1782578  11419866  The Spanish Duke's Virgin Bride (Innocent Mist...   \n",
       "\n",
       "                                                    author  ratings  \\\n",
       "0                    [{'author_id': '626222', 'role': ''}]       10   \n",
       "1                     [{'author_id': '10333', 'role': ''}]      140   \n",
       "2                      [{'author_id': '9212', 'role': ''}]    51184   \n",
       "3                    [{'author_id': '149918', 'role': ''}]       15   \n",
       "4                   [{'author_id': '3041852', 'role': ''}]       46   \n",
       "...                                                    ...      ...   \n",
       "1782574  [{'author_id': '4015', 'role': ''}, {'author_i...       12   \n",
       "1782575  [{'author_id': '2448', 'role': ''}, {'author_i...        6   \n",
       "1782576         [{'author_id': '82312', 'role': 'Editor'}]       36   \n",
       "1782577             [{'author_id': '7789809', 'role': ''}]       70   \n",
       "1782578              [{'author_id': '621880', 'role': ''}]        7   \n",
       "\n",
       "                                                       url  \\\n",
       "0        https://www.goodreads.com/book/show/1333909.Go...   \n",
       "1        https://www.goodreads.com/book/show/7327624-th...   \n",
       "2        https://www.goodreads.com/book/show/6066819-be...   \n",
       "3        https://www.goodreads.com/book/show/287140.Run...   \n",
       "4        https://www.goodreads.com/book/show/287141.The...   \n",
       "...                                                    ...   \n",
       "1782574  https://www.goodreads.com/book/show/3084038-th...   \n",
       "1782575  https://www.goodreads.com/book/show/26168430-s...   \n",
       "1782576  https://www.goodreads.com/book/show/2342551.Th...   \n",
       "1782577  https://www.goodreads.com/book/show/22017381-1...   \n",
       "1782578  https://www.goodreads.com/book/show/11419866-t...   \n",
       "\n",
       "                                               cover_image  \\\n",
       "0        https://s.gr-assets.com/assets/nophoto/book/11...   \n",
       "1        https://images.gr-assets.com/books/1304100136m...   \n",
       "2        https://s.gr-assets.com/assets/nophoto/book/11...   \n",
       "3        https://images.gr-assets.com/books/1413219371m...   \n",
       "4        https://s.gr-assets.com/assets/nophoto/book/11...   \n",
       "...                                                    ...   \n",
       "1782574  https://images.gr-assets.com/books/1494763458m...   \n",
       "1782575  https://images.gr-assets.com/books/1440592011m...   \n",
       "1782576  https://s.gr-assets.com/assets/nophoto/book/11...   \n",
       "1782577  https://images.gr-assets.com/books/1398621236m...   \n",
       "1782578  https://s.gr-assets.com/assets/nophoto/book/11...   \n",
       "\n",
       "                                                 mod_title  \n",
       "0                                              good harbor  \n",
       "1           the unschooled wizard sun wolf and starhawk 12  \n",
       "2                                     best friends forever  \n",
       "3        runic astrology starcraft and timekeeping in t...  \n",
       "4                            the aeneid for boys and girls  \n",
       "...                                                    ...  \n",
       "1782574  this sceptred isle vol 10 the age of victoria ...  \n",
       "1782575                sherlock holmes and the july crisis  \n",
       "1782576            the childrens classic poetry collection  \n",
       "1782577                101 nights volume one 101 nights 13  \n",
       "1782578  the spanish dukes virgin bride innocent mistre...  \n",
       "\n",
       "[1773389 rows x 7 columns]"
      ]
     },
     "execution_count": 13,
     "metadata": {},
     "output_type": "execute_result"
    }
   ],
   "source": [
    "titles"
   ]
  },
  {
   "cell_type": "code",
   "execution_count": 14,
   "id": "456c2d97",
   "metadata": {},
   "outputs": [],
   "source": [
    "from sklearn.feature_extraction.text import TfidfVectorizer\n",
    "vectorizer = TfidfVectorizer()\n",
    "\n",
    "tfidf = vectorizer.fit_transform(titles[\"mod_title\"])"
   ]
  },
  {
   "cell_type": "code",
   "execution_count": 15,
   "id": "b5a99acc",
   "metadata": {},
   "outputs": [],
   "source": [
    "from sklearn.metrics.pairwise import cosine_similarity\n",
    "import numpy as np\n",
    "import re\n",
    "\n",
    "def make_clickable(val):\n",
    "    return '<a target=\"_blank\" href=\"{}\">Goodreads</a>'.format(val, val)\n",
    "\n",
    "def show_image(val):\n",
    "    return '<a href=\"{}\"><img src=\"{}\" width=50></img></a>'.format(val, val)\n",
    "\n",
    "def search(query,vectorizer):\n",
    "    processed = re.sub(\"[^a-zA-Z0-9 ]\", \"\", query.lower())\n",
    "    query_vec = vectorizer.transform([query])\n",
    "    similarity = cosine_similarity(query_vec, tfidf).flatten()\n",
    "    indices = np.argpartition(similarity, -10)[-10:]\n",
    "    results = titles.iloc[indices]\n",
    "    results = results.sort_values(\"ratings\", ascending=False)\n",
    "    \n",
    "    return results.head(5).style.format({'url': make_clickable, 'cover_image': show_image})"
   ]
  },
  {
   "cell_type": "code",
   "execution_count": 16,
   "id": "debc7e0f",
   "metadata": {},
   "outputs": [
    {
     "data": {
      "text/html": [
       "<style  type=\"text/css\" >\n",
       "</style><table id=\"T_3da08_\" ><thead>    <tr>        <th class=\"blank level0\" ></th>        <th class=\"col_heading level0 col0\" >book_id</th>        <th class=\"col_heading level0 col1\" >title</th>        <th class=\"col_heading level0 col2\" >author</th>        <th class=\"col_heading level0 col3\" >ratings</th>        <th class=\"col_heading level0 col4\" >url</th>        <th class=\"col_heading level0 col5\" >cover_image</th>        <th class=\"col_heading level0 col6\" >mod_title</th>    </tr></thead><tbody>\n",
       "                <tr>\n",
       "                        <th id=\"T_3da08_level0_row0\" class=\"row_heading level0 row0\" >930944</th>\n",
       "                        <td id=\"T_3da08_row0_col0\" class=\"data row0 col0\" >12187799</td>\n",
       "                        <td id=\"T_3da08_row0_col1\" class=\"data row0 col1\" >Mockingjay</td>\n",
       "                        <td id=\"T_3da08_row0_col2\" class=\"data row0 col2\" >[{'author_id': '153394', 'role': ''}]</td>\n",
       "                        <td id=\"T_3da08_row0_col3\" class=\"data row0 col3\" >4911</td>\n",
       "                        <td id=\"T_3da08_row0_col4\" class=\"data row0 col4\" ><a target=\"_blank\" href=\"https://www.goodreads.com/book/show/12187799-mockingjay\">Goodreads</a></td>\n",
       "                        <td id=\"T_3da08_row0_col5\" class=\"data row0 col5\" ><a href=\"https://images.gr-assets.com/books/1330510101m/12187799.jpg\"><img src=\"https://images.gr-assets.com/books/1330510101m/12187799.jpg\" width=50></img></a></td>\n",
       "                        <td id=\"T_3da08_row0_col6\" class=\"data row0 col6\" >mockingjay</td>\n",
       "            </tr>\n",
       "            <tr>\n",
       "                        <th id=\"T_3da08_level0_row1\" class=\"row_heading level0 row1\" >1252369</th>\n",
       "                        <td id=\"T_3da08_row1_col0\" class=\"data row1 col0\" >18901352</td>\n",
       "                        <td id=\"T_3da08_row1_col1\" class=\"data row1 col1\" >Mockingjay (Hunger Games, #3)</td>\n",
       "                        <td id=\"T_3da08_row1_col2\" class=\"data row1 col2\" >[{'author_id': '153394', 'role': ''}]</td>\n",
       "                        <td id=\"T_3da08_row1_col3\" class=\"data row1 col3\" >573</td>\n",
       "                        <td id=\"T_3da08_row1_col4\" class=\"data row1 col4\" ><a target=\"_blank\" href=\"https://www.goodreads.com/book/show/18901352-mockingjay\">Goodreads</a></td>\n",
       "                        <td id=\"T_3da08_row1_col5\" class=\"data row1 col5\" ><a href=\"https://s.gr-assets.com/assets/nophoto/book/111x148-bcc042a9c91a29c1d680899eff700a03.png\"><img src=\"https://s.gr-assets.com/assets/nophoto/book/111x148-bcc042a9c91a29c1d680899eff700a03.png\" width=50></img></a></td>\n",
       "                        <td id=\"T_3da08_row1_col6\" class=\"data row1 col6\" >mockingjay hunger games 3</td>\n",
       "            </tr>\n",
       "            <tr>\n",
       "                        <th id=\"T_3da08_level0_row2\" class=\"row_heading level0 row2\" >1728709</th>\n",
       "                        <td id=\"T_3da08_row2_col0\" class=\"data row2 col0\" >22173562</td>\n",
       "                        <td id=\"T_3da08_row2_col1\" class=\"data row2 col1\" >Mockingjay</td>\n",
       "                        <td id=\"T_3da08_row2_col2\" class=\"data row2 col2\" >[{'author_id': '153394', 'role': ''}]</td>\n",
       "                        <td id=\"T_3da08_row2_col3\" class=\"data row2 col3\" >361</td>\n",
       "                        <td id=\"T_3da08_row2_col4\" class=\"data row2 col4\" ><a target=\"_blank\" href=\"https://www.goodreads.com/book/show/22173562-mockingjay\">Goodreads</a></td>\n",
       "                        <td id=\"T_3da08_row2_col5\" class=\"data row2 col5\" ><a href=\"https://s.gr-assets.com/assets/nophoto/book/111x148-bcc042a9c91a29c1d680899eff700a03.png\"><img src=\"https://s.gr-assets.com/assets/nophoto/book/111x148-bcc042a9c91a29c1d680899eff700a03.png\" width=50></img></a></td>\n",
       "                        <td id=\"T_3da08_row2_col6\" class=\"data row2 col6\" >mockingjay</td>\n",
       "            </tr>\n",
       "            <tr>\n",
       "                        <th id=\"T_3da08_level0_row3\" class=\"row_heading level0 row3\" >715533</th>\n",
       "                        <td id=\"T_3da08_row3_col0\" class=\"data row3 col0\" >17182084</td>\n",
       "                        <td id=\"T_3da08_row3_col1\" class=\"data row3 col1\" >Mockingjay (The Hunger Games, #3)</td>\n",
       "                        <td id=\"T_3da08_row3_col2\" class=\"data row3 col2\" >[{'author_id': '153394', 'role': ''}]</td>\n",
       "                        <td id=\"T_3da08_row3_col3\" class=\"data row3 col3\" >234</td>\n",
       "                        <td id=\"T_3da08_row3_col4\" class=\"data row3 col4\" ><a target=\"_blank\" href=\"https://www.goodreads.com/book/show/17182084-mockingjay\">Goodreads</a></td>\n",
       "                        <td id=\"T_3da08_row3_col5\" class=\"data row3 col5\" ><a href=\"https://images.gr-assets.com/books/1365473027m/17182084.jpg\"><img src=\"https://images.gr-assets.com/books/1365473027m/17182084.jpg\" width=50></img></a></td>\n",
       "                        <td id=\"T_3da08_row3_col6\" class=\"data row3 col6\" >mockingjay the hunger games 3</td>\n",
       "            </tr>\n",
       "            <tr>\n",
       "                        <th id=\"T_3da08_level0_row4\" class=\"row_heading level0 row4\" >1360651</th>\n",
       "                        <td id=\"T_3da08_row4_col0\" class=\"data row4 col0\" >21976013</td>\n",
       "                        <td id=\"T_3da08_row4_col1\" class=\"data row4 col1\" >Mockingjay</td>\n",
       "                        <td id=\"T_3da08_row4_col2\" class=\"data row4 col2\" >[{'author_id': '153394', 'role': ''}]</td>\n",
       "                        <td id=\"T_3da08_row4_col3\" class=\"data row4 col3\" >198</td>\n",
       "                        <td id=\"T_3da08_row4_col4\" class=\"data row4 col4\" ><a target=\"_blank\" href=\"https://www.goodreads.com/book/show/21976013-mockingjay\">Goodreads</a></td>\n",
       "                        <td id=\"T_3da08_row4_col5\" class=\"data row4 col5\" ><a href=\"https://images.gr-assets.com/books/1400955708m/21976013.jpg\"><img src=\"https://images.gr-assets.com/books/1400955708m/21976013.jpg\" width=50></img></a></td>\n",
       "                        <td id=\"T_3da08_row4_col6\" class=\"data row4 col6\" >mockingjay</td>\n",
       "            </tr>\n",
       "    </tbody></table>"
      ],
      "text/plain": [
       "<pandas.io.formats.style.Styler at 0x1d52ad32f10>"
      ]
     },
     "execution_count": 16,
     "metadata": {},
     "output_type": "execute_result"
    }
   ],
   "source": [
    "search(\"Mockingjay\", vectorizer)"
   ]
  },
  {
   "cell_type": "code",
   "execution_count": 17,
   "id": "4f65ed43",
   "metadata": {},
   "outputs": [],
   "source": [
    "from joblib import dump"
   ]
  },
  {
   "cell_type": "code",
   "execution_count": 24,
   "id": "143a3ce3",
   "metadata": {},
   "outputs": [
    {
     "ename": "FileNotFoundError",
     "evalue": "[Errno 2] No such file or directory: './../../savedModels/vectorizer.joblib'",
     "output_type": "error",
     "traceback": [
      "\u001b[1;31m---------------------------------------------------------------------------\u001b[0m",
      "\u001b[1;31mFileNotFoundError\u001b[0m                         Traceback (most recent call last)",
      "\u001b[1;32m<ipython-input-24-a74b00365567>\u001b[0m in \u001b[0;36m<module>\u001b[1;34m\u001b[0m\n\u001b[1;32m----> 1\u001b[1;33m \u001b[0mdump\u001b[0m\u001b[1;33m(\u001b[0m\u001b[0mvectorizer\u001b[0m\u001b[1;33m,\u001b[0m \u001b[1;34m'./../../savedModels/vectorizer.joblib'\u001b[0m\u001b[1;33m)\u001b[0m\u001b[1;33m\u001b[0m\u001b[1;33m\u001b[0m\u001b[0m\n\u001b[0m",
      "\u001b[1;32m~\\anaconda3\\lib\\site-packages\\joblib\\numpy_pickle.py\u001b[0m in \u001b[0;36mdump\u001b[1;34m(value, filename, compress, protocol, cache_size)\u001b[0m\n\u001b[0;32m    477\u001b[0m             \u001b[0mNumpyPickler\u001b[0m\u001b[1;33m(\u001b[0m\u001b[0mf\u001b[0m\u001b[1;33m,\u001b[0m \u001b[0mprotocol\u001b[0m\u001b[1;33m=\u001b[0m\u001b[0mprotocol\u001b[0m\u001b[1;33m)\u001b[0m\u001b[1;33m.\u001b[0m\u001b[0mdump\u001b[0m\u001b[1;33m(\u001b[0m\u001b[0mvalue\u001b[0m\u001b[1;33m)\u001b[0m\u001b[1;33m\u001b[0m\u001b[1;33m\u001b[0m\u001b[0m\n\u001b[0;32m    478\u001b[0m     \u001b[1;32melif\u001b[0m \u001b[0mis_filename\u001b[0m\u001b[1;33m:\u001b[0m\u001b[1;33m\u001b[0m\u001b[1;33m\u001b[0m\u001b[0m\n\u001b[1;32m--> 479\u001b[1;33m         \u001b[1;32mwith\u001b[0m \u001b[0mopen\u001b[0m\u001b[1;33m(\u001b[0m\u001b[0mfilename\u001b[0m\u001b[1;33m,\u001b[0m \u001b[1;34m'wb'\u001b[0m\u001b[1;33m)\u001b[0m \u001b[1;32mas\u001b[0m \u001b[0mf\u001b[0m\u001b[1;33m:\u001b[0m\u001b[1;33m\u001b[0m\u001b[1;33m\u001b[0m\u001b[0m\n\u001b[0m\u001b[0;32m    480\u001b[0m             \u001b[0mNumpyPickler\u001b[0m\u001b[1;33m(\u001b[0m\u001b[0mf\u001b[0m\u001b[1;33m,\u001b[0m \u001b[0mprotocol\u001b[0m\u001b[1;33m=\u001b[0m\u001b[0mprotocol\u001b[0m\u001b[1;33m)\u001b[0m\u001b[1;33m.\u001b[0m\u001b[0mdump\u001b[0m\u001b[1;33m(\u001b[0m\u001b[0mvalue\u001b[0m\u001b[1;33m)\u001b[0m\u001b[1;33m\u001b[0m\u001b[1;33m\u001b[0m\u001b[0m\n\u001b[0;32m    481\u001b[0m     \u001b[1;32melse\u001b[0m\u001b[1;33m:\u001b[0m\u001b[1;33m\u001b[0m\u001b[1;33m\u001b[0m\u001b[0m\n",
      "\u001b[1;31mFileNotFoundError\u001b[0m: [Errno 2] No such file or directory: './../../savedModels/vectorizer.joblib'"
     ]
    }
   ],
   "source": [
    "dump(vectorizer, './../../savedModels/vectorizer.joblib')"
   ]
  },
  {
   "cell_type": "code",
   "execution_count": null,
   "id": "da10f461",
   "metadata": {},
   "outputs": [],
   "source": []
  }
 ],
 "metadata": {
  "kernelspec": {
   "display_name": "Python 3",
   "language": "python",
   "name": "python3"
  },
  "language_info": {
   "codemirror_mode": {
    "name": "ipython",
    "version": 3
   },
   "file_extension": ".py",
   "mimetype": "text/x-python",
   "name": "python",
   "nbconvert_exporter": "python",
   "pygments_lexer": "ipython3",
   "version": "3.8.8"
  }
 },
 "nbformat": 4,
 "nbformat_minor": 5
}
